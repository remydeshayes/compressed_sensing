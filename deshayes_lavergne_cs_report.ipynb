{
 "cells": [
  {
   "cell_type": "markdown",
   "metadata": {
    "id": "cMdYU9jMczzj"
   },
   "source": [
    "# Compressed Sensing : Final Project - Semidefinite Relaxations for Integer Programming"
   ]
  },
  {
   "cell_type": "markdown",
   "metadata": {
    "id": "IPjZdTAJrCm5"
   },
   "source": [
    "### Rémy Deshayes and Éric Lavergne\n",
    "\n"
   ]
  },
  {
   "cell_type": "markdown",
   "metadata": {
    "id": "yp8EdoZNrCm8"
   },
   "source": [
    "*March 25th 2021*"
   ]
  },
  {
   "cell_type": "markdown",
   "metadata": {
    "id": "yzEEdRzDvMlj"
   },
   "source": [
    "Our project is based on the work of Franz Rendl in *Semidefinite Relaxations for Integer Programming*. We summarized the main ideas of the article and implemented some of the solutions described in the survey for the two classical problems of maxcut and graph coloring."
   ]
  },
  {
   "cell_type": "markdown",
   "metadata": {
    "id": "icoxsSMrvnbK"
   },
   "source": [
    "The first part *1. Approachs for Integer Programming* quickly introduces the approaches used in this field. The second part *2. The basics of SemiDefinite Optimization* outlines the main ideas of SDP programming. The third part *3. Famous (COP), SDP relaxation and hyperplane rounding* considers the examples of two classical problems, Max-Cut and Graph coloring, that can be solved thanks to SDP programming. Once a solution of the SDP relaxation has been obtained, the hyperplane rounding algorithm is used to obtain a good solution in the initial space. Finally, in the last part *4. Interior Points methods for SDP programming and more*, we describe methods to compute SDP problems."
   ]
  },
  {
   "cell_type": "markdown",
   "metadata": {
    "id": "SAlynclHLA4Q"
   },
   "source": [
    "Packages"
   ]
  },
  {
   "cell_type": "code",
   "execution_count": null,
   "metadata": {
    "id": "Ku2yk8Uj151D"
   },
   "outputs": [],
   "source": [
    "import cvxpy as cp\n",
    "import numpy as np\n",
    "import matplotlib.pyplot as plt\n",
    "import networkx as nx\n",
    "import time"
   ]
  },
  {
   "cell_type": "markdown",
   "metadata": {
    "id": "fgGC1OJN_viw"
   },
   "source": [
    "This notebook involves many graph problems and then some drawings are done:"
   ]
  },
  {
   "cell_type": "code",
   "execution_count": null,
   "metadata": {
    "id": "5JX2XySu_vix"
   },
   "outputs": [],
   "source": [
    "def draw_graph_from_np(A):\n",
    "    \"\"\"\n",
    "    draw a graph from its adjacency matrix A\n",
    "    \"\"\"\n",
    "    G = nx.from_numpy_matrix(np.matrix(A))\n",
    "\n",
    "    nx.draw(G, with_labels=True, font_weight='bold')\n",
    "\n",
    "    plt.show()"
   ]
  },
  {
   "cell_type": "markdown",
   "metadata": {
    "id": "RfRhZDL7rCm-"
   },
   "source": [
    "# 1  Approachs for Integer Progamming"
   ]
  },
  {
   "cell_type": "markdown",
   "metadata": {
    "id": "vLTk0wzVrCnC"
   },
   "source": [
    "## 1.1 The origins"
   ]
  },
  {
   "cell_type": "markdown",
   "metadata": {
    "id": "ZElQXZtwrCnD"
   },
   "source": [
    "Integer Programming consists of optimization problems where some variables are restricted to be integers. This area of study is closely related to Combinatorial Optimization, and we will study in this report different Combinatorial Optimisation problems that can be expressed in the form of integer programming.\n",
    "\n",
    "Let us recall the general form of a Combinatorial Optimization Problem \\eqref{eqn: cop} :\n",
    "\n",
    "- $E$ is a finite set, each $e \\in E$ has a given cost $c_e \\in \\mathbb{N}$\n",
    "- $\\mathscr{F}$ is a finite family of subsets of $E$ denoting the set of feasible solutions of \\eqref{eqn: cop}\n",
    "\n",
    "The cost function for $F \\in \\mathscr{F}$ is given by : $$ c(F) := \\sum\\limits_{e \\in F} c_e $$ \n",
    "\n",
    "Now, the \\eqref{eqn: cop} problem is about finding a feasible solution $F$ of minimum cost : \n",
    "\\begin{equation}\n",
    "\\tag{COP}\n",
    "\\label{eqn: cop}\n",
    "z^* = \\min\\{ c(F) : F \\in \\mathscr{F} \\}\n",
    "\\end{equation}\n",
    "\n",
    "To solve \\eqref{eqn: cop} one can use the *Polyhedral Approach*. This approach is based on assigning a characteristic vector to each $F \\in \\mathscr{F}$, $x_F \\in \\{ 0,1 \\}^n$ where $(x_F)_e = 1$ if and only if $e \\in F$.     \n",
    "Now, let us introduce $P := \\text{conv}\\{ x_F : F \\in \\mathscr{F} \\}$, the convex hull of the characteristic vectors of feasible solutions.\n",
    "\n",
    "This allows to write \\eqref{eqn: cop} as the following linear program \\eqref{eqn: cop_v2} \n",
    "\\begin{equation} \n",
    "    \\tag{COP V2}\n",
    "    \\label{eqn: cop_v2}\n",
    "    z^* = \\min\\{ c^T x_F : F \\in \\mathscr{F} \\} = \\min\\{ c^T x : x \\in P \\}\n",
    "\\end{equation}\n",
    "\n",
    "For the past five decades or so, NP-hard integer optimization problems have been widely approached with this technique. Indeed, a partial description of $P$ can be exploited by renowned linear programming algorithmic methods and has often yielded good results.        \n",
    "However, the approach \\eqref{eqn: cop_v2} have given some pretty poor results for famous NP-hard problems such as Max-Cut.\n",
    "\n",
    "## 1.2 A new approach : matrix liftings\n",
    "\n",
    "To overcome this disappointment one can use the set of matrices of the form $\\mathscr{M} := \\text{conv}\\{ x_F x_F^T : F \\in \\mathscr{F} \\} $ instead of $P$ defined in approach \\eqref{eqn: cop_v2}.     \n",
    "\n",
    "The underlying intuition is based on the fact that any quadratic constraint on $x \\in P$ translates into a linear constraint on $X \\in \\mathscr{M}$ (e.g $x_ix_j = 0$ becomes $x_{ij} = 0$). Same goes with the cost function. In addition $X \\in \\mathscr{M}$ is positive semidefinite.          \n",
    "\n",
    "A Major consequence of the switch is that this relaxation is conveying a problem lying in the space of symmetric matrices $\\mathscr{S}_n$ instead of the traditional \\eqref{eqn: cop} space $\\mathbb{R}^n$             \n",
    "\n",
    "Finally, if we add the condition that $\\mathscr{M}$ is contained in the cone of positive semidefinite matrices we end up having semidefinite relaxations as approximations of our initial \\eqref{eqn: cop}."
   ]
  },
  {
   "cell_type": "markdown",
   "metadata": {
    "id": "MKSkSSJurCnH"
   },
   "source": [
    "# 2  The basics of Semidefinite Optimization            \n",
    "\n",
    "\n",
    "In part 3, we will dive into more details about the SDP relaxation of a few famous (COP), notably the Max-Cut for which (COP V2) modeling led to poor results and motivated the need to introduce the method seen in 1.2.        \n",
    "\n",
    "But before that, let us recall the general form of the \\eqref{eqn: sdp} program :\n",
    "\n",
    "\\begin{equation}\n",
    "    \\tag{SDP}\n",
    "    \\label{eqn: sdp}\n",
    "    z_p = \\inf \\{ \\langle C, X \\rangle : \\langle A_i, X \\rangle = b_i, i = 1, \\dots, m, X \\succeq 0 \\}\n",
    "\\end{equation}\n",
    "\n",
    "where $C, A_1, \\dots, A_m$ are symmetric of size $n$ and $b \\in \\mathbb{R}^m$                 \n",
    "\n",
    "Noting that \\eqref{eqn: sdp} is a convex optimization problem - indeed, we are optimizing a convex objective function under convex constraints -, let us make a quick comment about the duality gap here.          \n",
    "\n",
    "In general, strong duality (solutions of the primal $z_p$ and dual $z_d$ problems are equal) is not guaranteed. Here the duality gap will be equal to zero if *Slater's* condition hold for the primal problem.         \n",
    "\n",
    "The *Slater's* condition states that strong duality holds if there exists a strictly feasible $X^*$, in other word all constraints are satisfied and the nonlinear constraints are satisfied with strict inequalities.        \n",
    "Thus, \\ref{eqn: sdp} satisfies the *Slater's* condition if there exists $X \\succ 0$ such that $A(X) = b$ where $A(X)$ is the linear operator mapping matrices into $\\mathbb{R}^m$ as follows $A(X)_i = \\langle A_i, X \\rangle$      \n",
    "\n",
    "Finally, we note that if $z_d^* > - \\infty$, the dual problem is feasible (see \\[Boyd\\] part 5.2.3 \"Strong duality and Slater’s constraint qualification\" pages 227-228)       \n",
    "\n",
    "Fortunately, the semidefinite relaxations considered in section 3 all satisfy the conditions discussed in this section.\n",
    "\n",
    "**REFERENCE**    \n",
    "\n",
    "\\[Boyd\\]  Stephen Boyd and Lieven Vandenberghe. 2004. Convex Optimization. Cambridge University Press, USA."
   ]
  },
  {
   "cell_type": "markdown",
   "metadata": {
    "id": "_gisxzgsrCnK"
   },
   "source": [
    "# 3  Famous (COP), SDP relaxation and hyperplane rounding:\n",
    "\n",
    "\n",
    "In section 1 we saw the motivations of using semidefinite relaxations for some famous (COP) notably the Max-Cut.    \n",
    "Now, let us now dive into more details about semidefinite relaxations for the Max-Cut and the graph coloring problems. \n",
    "\n",
    "## 3.1 Max-Cut\n",
    "\n",
    "### 3.1.1 SDP Relaxation\n",
    "\n",
    "Let $G$ be a graph on $n$ vertices. The Max-Cut consists in separating the vertex set $V$ of $G$ into two sets $S, V \\setminus S$ such that the number of edges between the set $S$ and the set  $V \\setminus S$ is as large as possible.          \n",
    "\n",
    "Now let us denote $A$ the adjacency matrix of $G$, the Max-Cut problem \\eqref{eqn :pb_max_cut_1} can be formalized as follows :\n",
    "\n",
    "\\begin{equation}\n",
    "\\tag{MC}\n",
    "\\label{eqn :pb_max_cut_1}\n",
    "    z_{mc} = \\max_{S \\subseteq V} \\sum\\limits_{ij \\in \\delta(S)} a_{ij}\n",
    "\\end{equation} \n",
    "where $\\delta(S)$ is the set of edges $ij$ such that $i \\in S$, $j \\notin S$        \n",
    "\n",
    "Now using the ideas we introduced in part 1.1, let us model subsets $S \\subseteq V$ by characteristic vectors $x \\in \\{ -1, 1 \\}^n$ where $x_i = 1$ if $i \\in S$       \n",
    "\n",
    "We note that $\\text{edge} = ij \\in \\delta(S) $ if $ x_ix_j = -1 $, thus we can rewrite our objective function in \\eqref{eqn :pb_max_cut_1} : $$ \\sum\\limits_{ij \\in \\delta(S)} a_{ij} = \\sum\\limits_{ij \\in E} a_{ij} \\frac{1 - x_ix_j}{2}$$         \n",
    "\n",
    "Now, a way to model the objective function makes use of the Laplacian associated to $A$ : $$ L_A = \\text{Diag}(Ae) - A$$          \n",
    "where $e = (1, \\dots, 1)^T$       "
   ]
  },
  {
   "cell_type": "code",
   "execution_count": null,
   "metadata": {
    "id": "9HXwnUKBrCnN"
   },
   "outputs": [],
   "source": [
    "def Laplacien(A):\n",
    "    \"\"\"\n",
    "    Calculation of the Laplacian of matrix A, i.e. Diag(Ae)-A\n",
    "\n",
    "    A: square matrix, adjacency matrix of a graph\n",
    "\n",
    "    return: square matrix L Laplacian of matrix A\n",
    "    \"\"\"\n",
    "    L = np.diag(np.dot(A,np.ones(len(A)))) - A\n",
    "\n",
    "    return L"
   ]
  },
  {
   "cell_type": "markdown",
   "metadata": {
    "id": "PaKmOEQVrCnO"
   },
   "source": [
    "Using $L_A$, we obtain a new equality for the objective function : $$ \\sum\\limits_{ij \\in E} a_{ij} \\frac{1 - x_ix_j}{2} = \\frac{1}{4} x^T L_A x  $$\n",
    "This can be proved by developing the right-hand side of the equality.    \n",
    "\n",
    "We now use those results in (MC) and get :      \n",
    "\n",
    "\\begin{equation*}\n",
    "    z_{mc} = \\max_{x \\in \\{ -1, 1 \\}^n} \\frac{1}{4} x^T L x \n",
    "\\end{equation*}        \n",
    "\n",
    "Now using the 1.2 linearization idea, we introduce $X = xx^T$ in $ x^T L x = \\langle L, xx^T \\rangle = \\langle L, X \\rangle $. Given that $x_i \\in \\{ -1, 1 \\}$, we note that $ \\text{Diag}(X) = e $      \n",
    "\n",
    "We can now conclude with the SDP relaxation of Max-Cut :\n",
    "\n",
    "\\begin{equation}\n",
    "\\tag{MC SDP}\n",
    "\\label{pb_max_cut_sdp}\n",
    "\\begin{split}\n",
    "    &z_{mc, sdp} = \\max \\frac{1}{4} \\langle L, X \\rangle \\\\\n",
    "    \\text{ s.c : } &\\text{Diag}(X) = e\\\\\n",
    "    &X \\succeq 0\n",
    "\\end{split}\n",
    "\\end{equation}       "
   ]
  },
  {
   "cell_type": "markdown",
   "metadata": {
    "id": "n7zRQvPGrCnP"
   },
   "source": [
    "This SDP relaxation is implemented below with the CVXPY library :"
   ]
  },
  {
   "cell_type": "code",
   "execution_count": null,
   "metadata": {
    "id": "k_ccys9WrCnS"
   },
   "outputs": [],
   "source": [
    "def solve_sdp_maxcut(L):\n",
    "    \"\"\"\n",
    "    Definition and solving of the SDP relaxation of the maxcut problem\n",
    "    (see (14) in the article of Franz Rendl)\n",
    "\n",
    "    L: square matrix, laplacian of the adjacency matrix of the graph\n",
    "    \n",
    "    return: square matrix X solution of the SDP problem\n",
    "    \"\"\"\n",
    "    n = len(L)\n",
    "    \n",
    "    #define the variable and the constraints of the problem\n",
    "    X = cp.Variable((n,n), symmetric=True)\n",
    "    #X has to be SDP\n",
    "    constraints = [X >> 0]\n",
    "    #Diag(X) = e\n",
    "    constraints += [\n",
    "        X[i][i] == 1 for i in range(n)\n",
    "    ]\n",
    "    #Define the objective\n",
    "    prob = cp.Problem(cp.Maximize(cp.trace((1/4)*L @ X)),\n",
    "                      constraints)\n",
    "    prob.solve()\n",
    "\n",
    "    return X.value"
   ]
  },
  {
   "cell_type": "markdown",
   "metadata": {
    "id": "y4XKOHmhrCnT"
   },
   "source": [
    "### 3.1.2 Hyperplane rounding for Max-Cut\n",
    "\n",
    "So far, we used the SDP relaxation as a modeling tool but it can also be used to generate good integer solutions for the problems it is derived from.      \n",
    "\n",
    "One of the most famous example of for (MC) has been introduced by Goemans and Williamson in 1995 (GW95).        \n",
    "\n",
    "To use (GW95) one first need to solve the SDP relaxation of Max-Cut (MC SDP) derived above and obtains $X^*$ the problem relaxation solution. Now since $X^*$ is a symmetric matrix we can write it $X^* = P^T L P$ where $L$ is a diagonal matrix with the all positive eigenvalues of $X^*$ and $P$ the matrix formed by the associated eigenvectors. $$ X^* = P^T L P = P^T (L^{\\frac{1}{2}})^T L^{\\frac{1}{2}} P = V^T V$$         \n",
    "\n",
    "We note that as $\\text{Diag}(X^*) = e$, having written $X^*$ as $V^TV$ we deduce that the Euclidian norm of $v_i$ for any $i \\in \\{ 1, \\dots, n\\}$ is 1 meaning that $v_i$ are on the unit sphere.           \n",
    "This allows to better understand why this approach is called \"hyperplane rounding\". Indeed, we recall that are trying to find an optimal hyperplane, going through the origin, separating the $v_i$ in two, one side in $S$ and the other in $V \\setminus S$ as defined in 3.1.1, one side being encoded as $1$ and the other as $-1$            \n",
    "\n",
    "Now, the geometrical intuition of (GW95) is that if we take a normal vector $r$ to this hyperplan all $v_i$ forming an acute angle with $r$ will be encoded as $1$ and as $-1$ if the angle is obtuse. This geometrical argument looking at angles can be translated in an inner product $r^T v_i = \\lVert r \\rVert \\lVert v_i \\rVert \\cos($*angle between* $ r $ *and* $ v_i)$, the euclidian norms being $1$ for $r$ and $v_i$ as discussed above, we end up keeping the $\\cos$ only.     \n",
    "Which makes it clear why (GW95) is using the sign of the inner product $r^T v_i$ to create its cut.     \n",
    "\n",
    "Now that we have the intuition in mind, the whole algorithm is given by :      \n",
    "\n",
    "**Goemans-Williamson \"hyperplane rounding\" algorithm (GW95)**          \n",
    "*Input*            \n",
    "- $X \\succeq 0 $ and $ \\text{Diag}(X) = e $ given by $X = V^T V$ where $V$ is a squared matrix of size $n$ such that $ V = (v_1, \\dots, v_n) $    \n",
    "\n",
    "*Algorithm* \n",
    "- Randomly draw a vector $r \\in \\mathbb{R}^n$ uniformly distributed on the unit sphere \n",
    "- $ \\xi_i = 1 \\iff r^T v_i \\geq 0$     \n",
    "\n",
    "*Output* \n",
    "-  A bisection $ \\xi \\in \\{ -1, 1 \\}^n$"
   ]
  },
  {
   "cell_type": "markdown",
   "metadata": {
    "id": "xm0jNCzS_vjB"
   },
   "source": [
    "To compute the hyperplane rounding we need to compute the Cholesky factorisation of the solution X of the SDP relaxation:"
   ]
  },
  {
   "cell_type": "code",
   "execution_count": null,
   "metadata": {
    "id": "4mhyKaBeMjIQ"
   },
   "outputs": [],
   "source": [
    "def V(X):\n",
    "    \"\"\"\n",
    "    Factorisation of a SDP matrix X as X=VtV\n",
    "    \n",
    "    X: SDP matrix\n",
    "\n",
    "    return: square matrix V such as X=VtV\n",
    "    \"\"\"\n",
    "    eig_vals, eig_vecs = np.linalg.eig(X)\n",
    "\n",
    "    #in the case where the matrix is no more SDP because of rounding errors:\n",
    "    eig_vals[eig_vals < 0] = 0\n",
    "\n",
    "    V = np.diag(np.sqrt(eig_vals)) @ eig_vecs.T\n",
    "\n",
    "    return V"
   ]
  },
  {
   "cell_type": "markdown",
   "metadata": {
    "id": "1YkvPdbcmWRQ"
   },
   "source": [
    "Below is the Goemans-Williamson algorithm code with the hyperplane rounding idea applied to maxcut:"
   ]
  },
  {
   "cell_type": "code",
   "execution_count": null,
   "metadata": {
    "id": "HR1SA5kJSEPS"
   },
   "outputs": [],
   "source": [
    "def GW_algo(V, L, nb_iterations=10):\n",
    "    \"\"\"\n",
    "    Execution of the Goemans-Williamson algorithm for maxcut\n",
    "\n",
    "    V: square matrix such as X=VtV is a solution of the SDP relaxation\n",
    "    A: square matrix, laplacian of the adjacency matrix\n",
    "    used here to compute the performance of the cut\n",
    "    nb_iterations: int, maximum number of iterations of the algorithm\n",
    "\n",
    "    return: vector ksi defining a bisection of the graph of the problem\n",
    "    having good performances for the maxcut (see 3.1.3 below)\n",
    "    \"\"\"\n",
    "    n = len(V)\n",
    "\n",
    "    best_performance = -np.inf\n",
    "    best_ksi = None\n",
    "\n",
    "    #iterate over nb_iterations and keep the best iteration\n",
    "    for i in range(nb_iterations):\n",
    "\n",
    "        #generate r randomly on the unit sphere\n",
    "        r = np.random.normal(0,1,n)\n",
    "        r /= np.linalg.norm(r)\n",
    "        #compute the dot products rTvi between r and vi\n",
    "        rTvis = np.dot(V,r)\n",
    "        #compute the related cut with 1 and -1\n",
    "        ksi = 2*(rTvis>=0)-1\n",
    "        \n",
    "        #compute the performance of the cut\n",
    "        performance = (1/4)*np.dot(ksi.T, np.dot(L, ksi))\n",
    "        \n",
    "        #keep the best iteration\n",
    "        if performance > best_performance:\n",
    "            best_performance = performance\n",
    "            best_ksi = ksi\n",
    "\n",
    "    return best_ksi"
   ]
  },
  {
   "cell_type": "markdown",
   "metadata": {
    "id": "g_tE3xKTPkXM"
   },
   "source": [
    "We can test the GW algorithm for some graphs, starting with very simples graphs with respectively two connected vertices and three vertices with two connections:"
   ]
  },
  {
   "cell_type": "code",
   "execution_count": null,
   "metadata": {
    "colab": {
     "base_uri": "https://localhost:8080/"
    },
    "id": "cU8E-njwdQj-",
    "outputId": "03f35b21-d93f-480e-a124-f4f19277259e"
   },
   "outputs": [
    {
     "name": "stdout",
     "output_type": "stream",
     "text": [
      "Adjacency matrix :\n",
      "[[0 1]\n",
      " [1 0]]\n",
      "Vector of the cut : [ 1 -1]\n"
     ]
    }
   ],
   "source": [
    "# Adjacency matrix of a graph with two connected vertices\n",
    "A = np.array([[0,1],[1,0]])\n",
    "print(\"Adjacency matrix :\")\n",
    "print(A)\n",
    "#the SDP problem is solved with the Laplacian matrix\n",
    "L = Laplacien(A)\n",
    "X = solve_sdp_maxcut(L)\n",
    "#We can then run the GW algorithm with the solution X\n",
    "print(\"Vector of the cut : {}\".format(GW_algo(V(X), L)))"
   ]
  },
  {
   "cell_type": "code",
   "execution_count": null,
   "metadata": {
    "colab": {
     "base_uri": "https://localhost:8080/",
     "height": 332
    },
    "id": "o6PkW0gNrCng",
    "outputId": "b3f2ef43-a9ea-4858-a946-2dbd1788dd3b"
   },
   "outputs": [
    {
     "name": "stdout",
     "output_type": "stream",
     "text": [
      "Adjacency matrix :\n",
      "[[0 1 0]\n",
      " [1 0 2]\n",
      " [0 2 0]]\n",
      "Vector of the cut : [-1  1 -1]\n"
     ]
    },
    {
     "data": {
      "image/png": "[encoded data removed]",
      "text/plain": [
       "<Figure size 216x216 with 1 Axes>"
      ]
     },
     "metadata": {
      "tags": []
     },
     "output_type": "display_data"
    }
   ],
   "source": [
    "# Adjacency matrix of a graph with three vertices connected as a line\n",
    "A = np.array([[0,1,0],[1,0,2],[0,2,0]])\n",
    "print(\"Adjacency matrix :\")\n",
    "print(A)\n",
    "#the SDP problem is solved with the Laplacian matrix\n",
    "L = Laplacien(A)\n",
    "X = solve_sdp_maxcut(L)\n",
    "#We can then run the GW algorithm with the solution X\n",
    "print(\"Vector of the cut : {}\".format(GW_algo(V(X), L)))\n",
    "\n",
    "plt.figure(figsize=(3,3))\n",
    "draw_graph_from_np(A)"
   ]
  },
  {
   "cell_type": "markdown",
   "metadata": {
    "id": "OTuUEZ4rrCnh"
   },
   "source": [
    "We observe that the GW algorithm give finally the good cuts (one vertice a vertex of the graph belongs to one side of the cut if it is 1 and to the other if it is -1). We now test the GW algorithm for a graph with a random adjacency matrix:"
   ]
  },
  {
   "cell_type": "code",
   "execution_count": null,
   "metadata": {
    "colab": {
     "base_uri": "https://localhost:8080/"
    },
    "id": "2A8gNfynrCnh",
    "outputId": "776384dd-21f7-4142-b878-55364d514cb8"
   },
   "outputs": [
    {
     "name": "stdout",
     "output_type": "stream",
     "text": [
      "Adjacency matrix :\n",
      "[[ 0.         -1.34991881 -2.56744235 -1.02561188 -0.12621858  0.23677004]\n",
      " [-1.34991881  0.         -1.18684581  0.93404123  0.128577    0.48067225]\n",
      " [-2.56744235 -1.18684581  0.         -0.73383814 -0.79004163 -0.40545759]\n",
      " [-1.02561188  0.93404123 -0.73383814  0.          0.53070161  0.0777178 ]\n",
      " [-0.12621858  0.128577   -0.79004163  0.53070161  0.         -0.63667815]\n",
      " [ 0.23677004  0.48067225 -0.40545759  0.0777178  -0.63667815  0.        ]]\n",
      "Vector of the cut : [ 1 -1  1  1  1  1]\n"
     ]
    }
   ],
   "source": [
    "# Adjacency matrix of a graph with n vertices and a random adjacency matrix\n",
    "n = 6\n",
    "A = np.random.randn(n, n)\n",
    "#delete the weighs for the edges between a same vertex\n",
    "for i in range(len(A)):\n",
    "    A[i][i] = 0\n",
    "#make the adjacency matrix symetric\n",
    "for i in range(len(A)):\n",
    "    for j in range(i,len(A)):\n",
    "        A[i][j] = A[j][i]\n",
    "print(\"Adjacency matrix :\")\n",
    "print(A)\n",
    "#the SDP problem is solved with the Laplacian matrix\n",
    "L = Laplacien(A)\n",
    "X = solve_sdp_maxcut(L)\n",
    "#We can then run the GW algorithm with the solution X\n",
    "print(\"Vector of the cut : {}\".format(GW_algo(V(X), L)))"
   ]
  },
  {
   "cell_type": "code",
   "execution_count": null,
   "metadata": {
    "colab": {
     "base_uri": "https://localhost:8080/",
     "height": 247
    },
    "id": "OHI-1GJ2CDYI",
    "outputId": "e57c1044-090b-4581-fbea-844d6afdf8db"
   },
   "outputs": [
    {
     "data": {
      "image/png": "[encoded data removed]",
      "text/plain": [
       "<Figure size 216x216 with 1 Axes>"
      ]
     },
     "metadata": {
      "tags": []
     },
     "output_type": "display_data"
    }
   ],
   "source": [
    "plt.figure(figsize=(3,3))\n",
    "draw_graph_from_np(A)"
   ]
  },
  {
   "cell_type": "markdown",
   "metadata": {
    "id": "ouBARto-rCnj"
   },
   "source": [
    "### 3.1.3 Performance guarantee of the algorithm         \n",
    "\n",
    "The geometrical intuition we introduced above also has an interesting feature : the expectation value of the solution $\\xi$ of (GW95) has a simple form.        \n",
    "\n",
    "Using the (MC) form we introduced in part 3.1.1 and acknowledging that $\\mathbb{P}(\\xi_i \\neq \\xi_j) = \\frac{\\arccos(v_i^T v_j)}{\\pi}$, we can write the expectation value of the (GW95) algorithm's solution $\\xi$ as :\n",
    "\n",
    "\\begin{equation}\n",
    "\\label{esp_gw95}\n",
    "    \\mathbb{E}\\left( \\sum\\limits_{ij \\in E} a_{ij} \\frac{1 - \\xi_i\\xi_j}{2} \\right) = \\sum\\limits_{ij \\in E} a_{ij} \\frac{\\arccos{v_i^T v_j}}{\\pi}\n",
    "\\end{equation}          \n",
    "\n",
    "Now, as we do not know the optimal solution to (MC), to estimate the performance of the (GW95) result we need to find a relation between the expectation find above and the optimal solution of the SDP program.       \n",
    "\n",
    "Now, let us denote $z_{mc}^*$ the optimal value of the Max-Cut, $z_{sdp}^*$ the optimal value of the relaxation.       \n",
    "If $A \\geq 0$, on average, the algorithm delivers a solution of value at least 0.88 times the optimal value.\n",
    "\n",
    "\\begin{equation}\n",
    "\\label{qual_gw95}\n",
    "    \\mathbb{E}[GW95] > 0.87856 z_{sdp}^* > 0.87856 z_{mc}^*\n",
    "\\end{equation}        \n",
    "\n",
    "The intuition behind the constant 0.87856 comes from the comparison of the functions used along the way it is to say : $\\frac{1}{\\pi} \\arccos(x)$ and $\\frac{1 - x}{2}$. By plotting both function over $[-1, 1]$, Goemans and Williamson in \\[GW\\] notes that : $$ \\frac{1}{\\pi} \\arccos(x) > 0.87856 \\frac{1 - x}{2} $$\n",
    "The performance guarantee then derives from using this result in (MC) and the equality on the expectation above.\n",
    "\n",
    "\n",
    "**REFERENCE**    \n",
    "\n",
    "\\[GW\\] M.X. Goemans and D.P. Williamson. Improved approximation algorithms for maximum cut and satisfiability problems using semidefinite programming. Journal of the ACM, 42:1115–1145, 1995."
   ]
  },
  {
   "cell_type": "markdown",
   "metadata": {
    "id": "1tCWsU8AeGOV"
   },
   "source": [
    "## 3.2 Graph coloring\n",
    "### 3.2.1 SDP Relaxation - Chromatic number\n",
    "\n",
    "Let $G$ be a graph and $(V_1, \\dots, V_k)$ be a $k$-partition of its vertex set $V(G)$. We recall that a vertex set $V_i$ is stable if the vertices in $V_i$ are pairwise nonadjacent.      \n",
    "Now, a $k$-coloring of $G$ is such that each $V_i$ of the $k$-partition is stable.      \n",
    "\n",
    "With that in mind, we define the quantity of interest the chromatic number  : $\\chi(G)$ is the smallest value $k$ such that $G$ has a $k$-coloring.           \n",
    "\n",
    "Now using the idea we introduced in 1.1, let us model the $k$-partition of the vertex set by characteristic vectors $s_i \\in \\{ 0, 1 \\}^n$ where $(s_i)_u$ if $u \\in V_i$          \n",
    "\n",
    "We now, following the idea of 1.2, introduce the partition matrix \\eqref{eqn: pmat} associated to the $k$-partition $ (V_1, \\dots, V_k) $ :    \n",
    "\n",
    "\\begin{equation}\n",
    "\\tag{PMat}\n",
    "\\label{eqn: pmat}\n",
    "    M = \\sum_i s_i s_i^T\n",
    "\\end{equation}      \n",
    "\n",
    "Now, just as in 3.1.1, a way to model the objective $\\chi(G)$ is through the following result on $M$.       \n",
    "Let M be a symmetric $0, 1$ matrix, $M$ is a $k$-partition matrix if and only if :      \n",
    "\n",
    "$\\text{Diag}(M) = e$, $\\text{rank}(M) = k$ and $M \\succeq 0$        \n",
    "\n",
    "To get a sense of where this result is coming from, let us check that the partition matrix we introduced earlier is indeed satisfying the rank condition for example.       \n",
    "\n",
    "First, just looking at \\eqref{eqn: pmat} formula it is obvious that $M$ is a symmetric $0, 1$ matrix.           \n",
    "Now, we note that $s_i \\neq 0_{1\\times n}$ for any $V_i$ in the partition and that if $u \\in V_i$, $(s_{j \\neq i})_u = 0$, $M$ being derived from a $k$-partition giving us $\\text{rank}(M) = k$       \n",
    "\n",
    "Rest of the proof to get the equivalence is available in Rendl's paper.          \n",
    "\n",
    "Some other arguments that we are not reviewing here allows to refine the precedent equivalence result on $M$ and notably to get rid of the non-convex rank constraint and semidefiniteness of $M$. Instead, we now have :       \n",
    "let M be a symmetric $0, 1$ matrix, $M$ is a $k$-partition matrix if and only if :       \n",
    "\n",
    "$\\text{Diag}(M) = e$ and $\\left( tM - J \\succeq 0 \\iff t \\geq k \\right)$, where $J$ is the all-ones matrix                \n",
    "\n",
    "Using those two results, we now write our objective as the following SDP program:       \n",
    "\n",
    "\\begin{equation}\n",
    "    \\tag{$\\chi(G)$ SDP bin}\n",
    "    \\label{chrom_1}\n",
    "    \\chi(G) = \\min\\{ t : tM - J \\succeq 0; \\text{Diag}(M) = e; m_{ij} = 0, \\forall ij \\in E(G); m_{ij} \\in \\{ 0, 1 \\}\\}\n",
    "\\end{equation}\n"
   ]
  },
  {
   "cell_type": "markdown",
   "metadata": {
    "id": "zrBE9bDM_vjN"
   },
   "source": [
    "### 3.2.2 Hyperplane rounding for Graph coloring\n",
    "\n",
    "As the hyperplane rounding algorithm used for Max-Cut we will now dive into an approach used for the graph-coloring problem.       \n",
    "The graph-coloring problem consists in assigning a color to each \\{ vertex, edge \\} of a graph such that no two adjacent \\{ vertices, edge \\} are of the same color.           \n",
    "\n",
    "This problem too is NP-hard and as such non trivial bounds for the number of colors are often hard to get let alone $\\chi(G)$. In 1983, Widgerson focused on the particular set-up of three-colorable graphs and ended up with an algorithm coloring any three-colorable graph on $n$ vertices with at most $3\\sqrt{n}$ .          \n",
    "\n",
    "The choice of three-colorable graphs was not haphazard. Indeed Widgerson used the two following facts : \n",
    "-  for any $v$ in $V(G)$ where $G$ is such that $\\chi(G) = 3$ then $N(v)$ is a bipartite graph therefore colorable with at most two colors (see \\[1\\])\n",
    "- if $G$ has a maximum vertex degree $\\Delta$ then $G$ can be colored in polynomial time with $\\Delta + 1$ colors\n",
    "\n",
    "We quickly recall that the neighbourhood $N(v)$ of a vertex $v \\in V(G)$ is the set of all vertices adjacent to $v$ and that the vertex degree $\\Delta$ of a vertex $v$ is the number of edges that are incident to $v$         "
   ]
  },
  {
   "cell_type": "code",
   "execution_count": null,
   "metadata": {
    "id": "4ZTfuVI2e0Hy"
   },
   "outputs": [],
   "source": [
    "# Implementation of some basic functions related to graphs:\n",
    "\n",
    "def degres(A):\n",
    "    \"\"\"\n",
    "    return: the list of the degres of each vertex of the graph with adjacency matrix A\n",
    "    \"\"\"\n",
    "    return np.sum(1*(A!=0), axis=1)\n",
    "\n",
    "def degre_max(A):\n",
    "    \"\"\"\n",
    "    return: the vertex with maximum degre and the maximum degre\n",
    "    \"\"\"\n",
    "    return np.argmax(degres(A)), np.max(degres(A))\n",
    "\n",
    "def voisins(A, k):\n",
    "    \"\"\"\n",
    "    return: the neighbours of the vertex k for a graph with adjacency matrix A\n",
    "    \"\"\"\n",
    "    return [i for i in range(len(A)) if A[k][i]>0]"
   ]
  },
  {
   "cell_type": "markdown",
   "metadata": {
    "id": "smS0e-9v_vjO"
   },
   "source": [
    "Those 2 facts in mind, Widgerson suggests to use the the property 1 stated above and to color the neighbourhood of a vertex of $G$ with only two colors. Furthermore, if the maximum vertex degree $\\Delta$ is such that $\\Delta > \\sqrt{n}$, then, abiding by the constraints of the problem, one can color at least $\\sqrt{n}$ vertices with only two colors.            \n",
    "The rest is backed by the second property stated above. The whole algorithm is now the following :      \n",
    "\n",
    "**Widgerson Algorithm for three-colorable graphs**\n",
    "\n",
    "*Input* \n",
    "- $G$ a graph on $n$ vertices such that $\\chi(G) = 3$     \n",
    "\n",
    "*Algorithm*\n",
    "- While there exists a vertex $v$ in $G$ with degree $\\Delta \\geq \\sqrt{n}$ : \n",
    "        - Color $v$ with color 1 and $N(v)$ with at most two new colors\n",
    "        - Remove $v$ and its neighbourhood from $G$ - new graph is still called $G$\n",
    "    \n",
    "- When all the remaining vertices are of degree $\\Delta < \\sqrt{n}$ color $G$ with at most $\\Delta$ colors    \n",
    "\n",
    "*Output* \n",
    "- A coloring of $G$ with at most $3\\sqrt{n}$ colors"
   ]
  },
  {
   "cell_type": "markdown",
   "metadata": {
    "id": "1foPUrpYrCnn"
   },
   "source": [
    "We will now implement this algorithm.    \n",
    "To verify the functioning of our coloring algorithms, we define a function that check that there are not any monochromatic egde:"
   ]
  },
  {
   "cell_type": "code",
   "execution_count": null,
   "metadata": {
    "id": "EKtlIAcOv1_W"
   },
   "outputs": [],
   "source": [
    "def check_coloring(A, colors):\n",
    "    \"\"\"\n",
    "    Giving a graph and a coloring, check if the coloring is fine\n",
    "    (i.e. if there are not neighboors with same color)\n",
    "\n",
    "    A: matrice d'adjacence du graphe\n",
    "    colors: couleurs associées à chaque sommet\n",
    "\n",
    "    return: booléen indiquant si le coloring est correct (True) ou non (False)\n",
    "    \"\"\"\n",
    "    n = len(A)\n",
    "\n",
    "    for i in range(n):\n",
    "        for j in range(n):\n",
    "            if A[i][j] > 0:\n",
    "                if colors[i]==colors[j]:\n",
    "                    return False\n",
    "\n",
    "    return True"
   ]
  },
  {
   "cell_type": "markdown",
   "metadata": {
    "id": "yVOApElgrCno"
   },
   "source": [
    "The following simple function allow to color a 2-colorable graph with two colors. It will be helpful when defining the Widgerson algorithm later. Indeed, the subgraph of the neighbours of a vertex in a 3-colorable graph is a 2-colorable graph and we can use the following algorithm to 2-color it:"
   ]
  },
  {
   "cell_type": "code",
   "execution_count": null,
   "metadata": {
    "id": "8A2zmQWIHXB0"
   },
   "outputs": [],
   "source": [
    "def two_color(A, deux_couleurs=[1,2]):\n",
    "    \"\"\"\n",
    "    Color with two colors a 2-colorable graph\n",
    "\n",
    "    A: Adjacency matrix of the 2-colorable graph\n",
    "    deux_couleurs: list of two colors (ints) to use\n",
    "\n",
    "    return: coloring, i.e. list of the used colors for each vertex\n",
    "    and number of used colors (1 or 2)\n",
    "    \"\"\"\n",
    "    n = len(A)\n",
    "    nb_couleurs_utilisees = 1\n",
    "    couleurs = np.zeros(n)\n",
    "    sommet = 0\n",
    "    index_couleur = 0\n",
    "\n",
    "    while True:\n",
    "\n",
    "        couleurs[sommet] = deux_couleurs[index_couleur]\n",
    "\n",
    "        neighbours_to_be_colored = [i for i in range(n) if A[sommet][i]>0 and couleurs[i]==0]\n",
    "        if len(neighbours_to_be_colored) > 0:\n",
    "            sommet = neighbours_to_be_colored[0]\n",
    "            index_couleur = 1-index_couleur\n",
    "            nb_couleurs_utilisees = 2\n",
    "        elif np.any(couleurs==0):\n",
    "            sommet = np.argmax(couleurs==0)                   \n",
    "        else:\n",
    "            break\n",
    "\n",
    "    return couleurs, nb_couleurs_utilisees"
   ]
  },
  {
   "cell_type": "markdown",
   "metadata": {
    "id": "42X59jXZrCnq"
   },
   "source": [
    "Let G be a graph with maximum vertex degree $\\Delta$. Then G can be colored in polynomial time with $\\Delta+1$ colors. as stated above.  \n",
    "The following greedy algorithm make this lemma in practice:"
   ]
  },
  {
   "cell_type": "code",
   "execution_count": null,
   "metadata": {
    "id": "rfu44i61jO62"
   },
   "outputs": [],
   "source": [
    "def greedy_color(A, min_couleur=1):\n",
    "    \"\"\"\n",
    "    Color with at most degre_max+1 colors with a greedy method\n",
    "\n",
    "    A: Adjacency matrix of the graph to be colored\n",
    "    min_couleur: int of the first color to be used\n",
    "\n",
    "    return: coloring, list of the used colors for each vertex\n",
    "    starting with the color int min_couleur\n",
    "    with a greedy method (at most degre_max+1 colors)\n",
    "    \"\"\"\n",
    "    n = len(A)\n",
    "    sommet_max, degre_max_ = degre_max(A)\n",
    "    couleurs = np.zeros(n)\n",
    "    couleurs_possibles = list(range(min_couleur, min_couleur+degre_max_+1))\n",
    "\n",
    "    for sommet in range(n):\n",
    "        couleurs_voisins = set(couleurs[voisins(A, sommet)])\n",
    "        couleurs_possibles_sommet = [couleur for couleur in couleurs_possibles if (couleur not in couleurs_voisins)]\n",
    "        couleurs[sommet] = couleurs_possibles_sommet[0]\n",
    "                                     \n",
    "    return couleurs"
   ]
  },
  {
   "cell_type": "markdown",
   "metadata": {
    "id": "Yyht1OfNrCnr"
   },
   "source": [
    "We can now define the Widgerson algorithm to color a 3-colorable graph with at most $3\\sqrt{n}$ colors:"
   ]
  },
  {
   "cell_type": "code",
   "execution_count": null,
   "metadata": {
    "id": "A3wsvelmeNEk"
   },
   "outputs": [],
   "source": [
    "def wigderson(A):\n",
    "    \"\"\"\n",
    "    Color a 3-colorable graph with 3sqrt(n) colors\n",
    "    with the Wigderson algorithm\n",
    "\n",
    "    A: adjacency matrix of the 3-colorable graph\n",
    "\n",
    "    return: coloring, list of the colors (int) for each vertex\n",
    "    \"\"\"\n",
    "    n = len(A)\n",
    "    A_ = A.copy()\n",
    "\n",
    "    #colors for each vertex (0 means not colored)\n",
    "    couleur = 2\n",
    "    couleurs = np.zeros(n)\n",
    "\n",
    "    sommet_en_cours, degre_max_ = degre_max(A_)\n",
    "    \n",
    "    while degre_max_ >= np.sqrt(n):\n",
    "\n",
    "        #Color the considered vertex with color 1\n",
    "        couleurs[sommet_en_cours] = 1\n",
    "        \n",
    "        #Color its neighbours with two new colors\n",
    "        voisins_ = voisins(A_, sommet_en_cours)\n",
    "        couleurs[voisins_], nb_couleurs_utilisees = two_color(A_[voisins_,:][:,voisins_], deux_couleurs=[couleur+1, couleur+2])\n",
    "        couleur += nb_couleurs_utilisees\n",
    "\n",
    "        #reduce the graph (represented here with its adjacency matrix)\n",
    "        #by deleting the edges for the colored vertices (allow not to consider them anymore)\n",
    "        #and recompute the maximum degre and the vertex with max degre\n",
    "        sommets_a_garder = [i for i in range(n)]\n",
    "        A_[sommet_en_cours] = np.zeros(n)\n",
    "        for voisin in voisins_:\n",
    "            A_[voisin] = np.zeros(n)\n",
    "        sommet_en_cours, degre_max_ = degre_max(A_)\n",
    "\n",
    "    #color the last noncolored vertices with a greedy method\n",
    "    sommets_non_colores = np.argwhere(couleurs==0).flatten()\n",
    "    if len(sommets_non_colores)>0 :\n",
    "        couleurs[sommets_non_colores] = greedy_color(A_[sommets_non_colores, :][:, sommets_non_colores], min_couleur=couleur)\n",
    "\n",
    "    return couleurs"
   ]
  },
  {
   "cell_type": "markdown",
   "metadata": {
    "id": "J6PsQ3fdrCns"
   },
   "source": [
    "For instance, if we define a graph of four vertices forming a cycle, and we compute the coloring computed by the algorithms defined above, we get:"
   ]
  },
  {
   "cell_type": "code",
   "execution_count": null,
   "metadata": {
    "colab": {
     "base_uri": "https://localhost:8080/",
     "height": 247
    },
    "id": "5qJoz72MVfIp",
    "outputId": "fc940238-0d98-4818-ab59-46163962e504"
   },
   "outputs": [
    {
     "data": {
      "image/png": "[encoded data removed]",
      "text/plain": [
       "<Figure size 216x216 with 1 Axes>"
      ]
     },
     "metadata": {
      "tags": []
     },
     "output_type": "display_data"
    }
   ],
   "source": [
    "# Adjacency matrix of a graph with 4 vertices forming a cycle\n",
    "A = np.array([[0,1,0,1],[1,0,1,0],[0,1,0,1],[1,0,1,0]])\n",
    "plt.figure(figsize=(3,3))\n",
    "draw_graph_from_np(A)"
   ]
  },
  {
   "cell_type": "code",
   "execution_count": null,
   "metadata": {
    "colab": {
     "base_uri": "https://localhost:8080/"
    },
    "id": "UBjhdGruVbTJ",
    "outputId": "b35a9189-8e60-4d04-bf0c-0adf8aaca7cf"
   },
   "outputs": [
    {
     "data": {
      "text/plain": [
       "True"
      ]
     },
     "execution_count": 17,
     "metadata": {
      "tags": []
     },
     "output_type": "execute_result"
    }
   ],
   "source": [
    "check_coloring(A, two_color(A)[0])"
   ]
  },
  {
   "cell_type": "code",
   "execution_count": null,
   "metadata": {
    "colab": {
     "base_uri": "https://localhost:8080/"
    },
    "id": "gtJemxz6l6TZ",
    "outputId": "5b38a3b8-337a-4757-bb7e-c74f52af0b19"
   },
   "outputs": [
    {
     "data": {
      "text/plain": [
       "True"
      ]
     },
     "execution_count": 18,
     "metadata": {
      "tags": []
     },
     "output_type": "execute_result"
    }
   ],
   "source": [
    "check_coloring(A, greedy_color(A))"
   ]
  },
  {
   "cell_type": "code",
   "execution_count": null,
   "metadata": {
    "colab": {
     "base_uri": "https://localhost:8080/"
    },
    "id": "CxdIZMMCevP7",
    "outputId": "e494fdc5-93e6-4590-bea6-a47824c70bcd"
   },
   "outputs": [
    {
     "data": {
      "text/plain": [
       "True"
      ]
     },
     "execution_count": 19,
     "metadata": {
      "tags": []
     },
     "output_type": "execute_result"
    }
   ],
   "source": [
    "check_coloring(A, wigderson(A))"
   ]
  },
  {
   "cell_type": "markdown",
   "metadata": {
    "id": "xityl5GjrCnx"
   },
   "source": [
    "All these colorings are correct."
   ]
  },
  {
   "cell_type": "markdown",
   "metadata": {
    "id": "w7oJ1nWp4ym6"
   },
   "source": [
    "#### KMS method (Karger, 1998)"
   ]
  },
  {
   "cell_type": "markdown",
   "metadata": {
    "id": "nyPT3SNl_vjX"
   },
   "source": [
    "The Widgerson algorithm we just saw does not make use of the relaxation we introduced in 3.2.2 but one improvement of the algorithm does so.      \n",
    "\n",
    "Starting back from $\\chi(G)$ SDP bin, we acknowledge that the $0, 1$ condition is not tractable and introduce a new form for $M$ that can be found in the Rendl article. From this new form emerges the famous Lovasz number $\\vartheta(G)$.      \n",
    "\n",
    "The Lovasz number has a lot of different uses and relations in various graph-related NP-hard problems like finding optimal stable sets and cliques.     \n",
    "Notably for the graph coloring problem $\\vartheta(G)$ is a lower bound on $\\chi(G)$      \n",
    "\n",
    "$\\vartheta(G)$ can be formulated as a semidefinite program and numerically approximated by the ellipsoid method in polynomial time in the number of vertices of G \\[2\\]\n",
    "\n",
    "\n",
    "One semidefinite program for $\\vartheta(G)$ is the following : \n",
    "\n",
    "\\begin{equation}\n",
    "\\tag{$\\vartheta(G)$ SDP}\n",
    "\\label{eqn: l_sdp}\n",
    "\\min\\{ \\lambda : V \\succeq 0, v_{ii} = 1 \\forall i, v_{ij} = \\lambda \\forall ij \\in E(G) \\}\n",
    "\\end{equation}      \n",
    "\n",
    "**REFERENCES**     \n",
    "\n",
    "- \\[1\\] Asratian, Armen S.; Denley, Tristan M. J.; Häggkvist, Roland (1998), Bipartite Graphs and their Applications, Cambridge Tracts in Mathematics, 131, Cambridge University Press, ISBN 9780521593458.\n",
    "\n",
    "- \\[2\\]Grötschel, Martin; Lovász, László; Schrijver, Alexander (1981), The ellipsoid method and its consequences in combinatorial optimization, Combinatorica, 1 (2): 169–197, doi:10.1007/BF02579273"
   ]
  },
  {
   "cell_type": "markdown",
   "metadata": {
    "id": "JT3q3gHi0qgi"
   },
   "source": [
    "We implement below this form of the SDP relaxation of the graph coloring problem with the CVXPY library:"
   ]
  },
  {
   "cell_type": "code",
   "execution_count": null,
   "metadata": {
    "id": "oyFHKY28l50V"
   },
   "outputs": [],
   "source": [
    "def solve_sdp_graph_coloring(A):\n",
    "    \"\"\"\n",
    "    Definition and solving of the SDP problem related to\n",
    "    the SDP relaxtion of graph coloring\n",
    "    (see the sdp form for lovasz number introduced above)\n",
    "    \n",
    "    A: square matrix, adjacency matrix of the graph\n",
    "    \n",
    "    return: square matrix X solution of the SDP problem\n",
    "    \"\"\"\n",
    "    n = len(A)\n",
    "    #build the matrices of the constraints\n",
    "    A_cont = []\n",
    "    for i in range(n):\n",
    "        for j in range(n):\n",
    "            if A[i][j]>0:\n",
    "                A_cont_mat = np.zeros((n,n))\n",
    "                A_cont_mat[i][j] = 1\n",
    "                A_cont_mat = A_cont_mat.astype('float')\n",
    "                A_cont.append(A_cont_mat)\n",
    "\n",
    "    #define the SDP problem with CVXPY\n",
    "    X = cp.Variable((n,n), symmetric=True)\n",
    "    t = cp.Variable(1)\n",
    "    constraints = [X >> 0]\n",
    "    constraints += [\n",
    "        X[i][i] == 1. for i in range(n)\n",
    "    ]\n",
    "    constraints += [\n",
    "        cp.trace(A_cont[i] @ X) == t for i in range(len(A_cont))\n",
    "    ]\n",
    "\n",
    "    prob = cp.Problem(cp.Minimize(t), constraints)\n",
    "    prob.solve()\n",
    "\n",
    "    return X.value"
   ]
  },
  {
   "cell_type": "markdown",
   "metadata": {
    "id": "NwMUgb7orCn5"
   },
   "source": [
    "We will now use it in a refined algorithm.     \n",
    "\n",
    "As for the maxcut problem, we can adapt the hyperplane rounding idea to get a solution for the graph coloring problem from a solution $X$ of its SDP relaxation. It is what Karger, Motwani and Sudan proposed in 1998 adapting the idea of Goemans-Williamson.\n",
    "\n",
    "They proposed to generate $t$ random vectors on the unit sphere. The $t$ hyperplanes constructed from these vectors define $2^t$ regions. In a similar way to Goemans-Williamson algorithm, for a well-chosen $t$, if we apply identical color to the vectors $V_i$ that are in the same region, we get a semi-coloring with a high probability, i.e. there is a subgraph of size $(n/2)$ where there are not monochromatic edges.\n",
    "\n",
    "The KMS Algorithm combines this method with the Widgerson while-loop to get a coloring with $O(n^{0.387})$ colors.\n",
    "\n",
    "**KMS Algorithm for three-colorable graphs**\n",
    "\n",
    "*Input* \n",
    "- $G$ a graph on $n$ vertices such that $\\chi(G) = 3$     \n",
    "\n",
    "*Algorithm*\n",
    "- While there exists a vertex $v$ in $G$ with degree $\\Delta \\geq n^{0.613}$ : \n",
    "        - Color $v$ with color 1 and $N(v)$ with at most two new colors\n",
    "        - Remove $v$ and its neighbourhood from $G$ - new graph is still called $G$\n",
    "    \n",
    "- Then when the max degree $\\Delta < n^{0.613}$\n",
    "        - Compute the solution of the SDP relaxation of the problemwhile there exists a non-colored vertex\n",
    "        - while there are still vertices in the graph :\n",
    "        compute a semi-coloring from this solution with the hyperplane rounding method \n",
    "        and remove the colored vertices from the graph\n",
    "\n",
    "*Output* \n",
    "- A coloring of $G$ with at most $O(n^{0.387})$ colors"
   ]
  },
  {
   "cell_type": "code",
   "execution_count": null,
   "metadata": {
    "id": "77amkaUx5F90"
   },
   "outputs": [],
   "source": [
    "def semi_coloring_with_hyperplane_rounding(A, V_, min_couleur=1, verbose=True):\n",
    "    \"\"\"\n",
    "    Semi-color the graph with colors\n",
    "    adaptating the hyperplane rounding method of GW\n",
    "\n",
    "    A: adjacency matrix nxn of the graph with n vertices\n",
    "    V: matrix nxn such as X=VtV\n",
    "    min_couleur : minimum int for the colors ints to be used\n",
    "\n",
    "    return: coloring, list of colors (ints) for each vertex\n",
    "    with zeros for the noncolored vertices\n",
    "    \"\"\"\n",
    "    n = len(A)\n",
    "    couleurs = np.zeros(n)\n",
    "    nb_used_colors = 0\n",
    "    sommet_max, degre_max_ = degre_max(A)\n",
    "\n",
    "    #if there are not any edge, we can return a vector with one color only\n",
    "    if degre_max_==0:\n",
    "        return np.ones(n)*min_couleur, 1\n",
    "\n",
    "    t = int(2 + np.log(degre_max_)/np.log(3))\n",
    "\n",
    "    while (couleurs>0).sum() < (n/2):\n",
    "\n",
    "        #generate t random vectors r on the unit sphere\n",
    "        r = np.random.normal(0,1,(t,len(V_)))\n",
    "        r = (r.T/np.linalg.norm(r, axis=1)).T\n",
    "        #compute the dot products rTvi of each r with each vi\n",
    "        rsTvis = np.dot(r, V_)\n",
    "\n",
    "        #get vectors with 1 or 0 if vi is in a side or the other of each hyperplan\n",
    "        vecteurs_hyperplans = rsTvis>=0\n",
    "        #then get some unique ids of color for each region defined by the hyperplanes defined by the random vectors r\n",
    "        #(put a number to each hyperplane and sum with this ponderation to get unique ids)\n",
    "        couleurs = (vecteurs_hyperplans.T*np.array(range(1,t+1))).sum(axis=1)\n",
    "\n",
    "        #delete one of the two vertices for each monochromatic edge\n",
    "        for i in range(n):\n",
    "            for j in range(n):\n",
    "                if A[i][j]>0:\n",
    "                    if couleurs[i]==couleurs[j]:\n",
    "                        couleurs[i] = 0\n",
    "\n",
    "    #reorganise the colors to get a consecutive sequence starting from min_couleur\n",
    "    colors_set = set(couleurs)\n",
    "    colors_set.discard(0)\n",
    "    nb_used_colors = len(colors_set)\n",
    "    old_colors_ints = list(colors_set)\n",
    "    new_colors_ints = list(range(min_couleur, min_couleur+nb_used_colors))\n",
    "    colors_transform = dict(zip(old_colors_ints, new_colors_ints))\n",
    "    colors_transform[0] = 0\n",
    "    couleurs = [colors_transform[couleur] for couleur in couleurs]\n",
    "\n",
    "    return couleurs, nb_used_colors\n",
    "\n",
    "\n",
    "def kms(A, verbose=True):\n",
    "    \"\"\"\n",
    "    Color the graph with O(n^0.387) colors\n",
    "    running the algorithm proposed by KMS\n",
    "\n",
    "    A: adjacency matrix of the 3-colorable graph\n",
    "\n",
    "    return: coloring, list of colors (ints) for each vertex\n",
    "    \"\"\"\n",
    "    n = len(A)\n",
    "    A_ = A.copy()\n",
    "\n",
    "    #colors for each vertex (0 means not colored)\n",
    "    couleur = 1\n",
    "    couleurs = np.zeros(n)\n",
    "\n",
    "    sommet_en_cours, degre_max_ = degre_max(A_)\n",
    "    \n",
    "    #Run the loop of the Wigderson algorithm\n",
    "    #while the max degre of non colored vertices is superior to n^0.613\n",
    "    while degre_max_ >= n**0.613:\n",
    "\n",
    "        #Color the considered vertex with a new color\n",
    "        couleurs[sommet_en_cours] = 1\n",
    "        \n",
    "        #Color the neighbours with two new colors\n",
    "        voisins_ = voisins(A_, sommet_en_cours)\n",
    "        couleurs[voisins_], nb_couleurs_utilisees = two_color(A_[voisins_,:][:,voisins_], deux_couleurs=[couleur+1, couleur+2])\n",
    "        couleur += nb_couleurs_utilisees\n",
    "\n",
    "        #reduce the graph (represented here with its adjacency matrix)\n",
    "        #by deleting the edges for the colored vertices (allow not to consider them anymore)\n",
    "        #and recompute the maximum degre and the vertex with max degre\n",
    "        sommets_a_garder = [i for i in range(n)]\n",
    "        A_[sommet_en_cours] = np.zeros(n)\n",
    "        for voisin in voisins_:\n",
    "            A_[voisin] = np.zeros(n)\n",
    "        sommet_en_cours, degre_max_ = degre_max(A_)\n",
    "\n",
    "    if verbose:\n",
    "        print(\"End of the Widgerson loop ; current coloring :\")\n",
    "        print(couleurs)\n",
    "\n",
    "    #Then use the SDP relaxation for the remaining graph...\n",
    "    sommets_non_colores = np.argwhere(couleurs==0).flatten()\n",
    "    if len(sommets_non_colores)>0 :\n",
    "        A_sous_graphe = A_[sommets_non_colores, :][:, sommets_non_colores]\n",
    "\n",
    "        X = solve_sdp_graph_coloring(A_sous_graphe)\n",
    "    \n",
    "        #...and the hyperplane rounding idea to get the colors from the solution\n",
    "        V_ = V(X) #Cholesky factorisation defined above in the notebook\n",
    "\n",
    "        #repeat the hyperplane rounding idea to get semicoloring until having colored the whole graph\n",
    "        while len(sommets_non_colores)>0:\n",
    "            A_non_colores = A_[sommets_non_colores, :][:, sommets_non_colores]\n",
    "            V_non_colores = ((V_.T)[sommets_non_colores]).T\n",
    "            couleurs[sommets_non_colores], nb_couleurs_utilisees = semi_coloring_with_hyperplane_rounding(A_non_colores, V_non_colores, min_couleur=couleur)\n",
    "            couleur += nb_couleurs_utilisees\n",
    "            sommets_non_colores = np.argwhere(couleurs==0).flatten()\n",
    "            if verbose:\n",
    "                print(\"New semicoloring added via hyperplane rounding ; current coloring :\")\n",
    "                print(couleurs)\n",
    "\n",
    "    return couleurs"
   ]
  },
  {
   "cell_type": "markdown",
   "metadata": {
    "id": "ouk7WpXigXkv"
   },
   "source": [
    "We can do a first test of the KMS algorithm with the very simple graph with 4 vertices forming a cycle we used above:"
   ]
  },
  {
   "cell_type": "code",
   "execution_count": null,
   "metadata": {
    "colab": {
     "base_uri": "https://localhost:8080/"
    },
    "id": "SWW6a3UGnRwE",
    "outputId": "56c70312-4be8-4de8-865f-588d48608ef0"
   },
   "outputs": [
    {
     "name": "stdout",
     "output_type": "stream",
     "text": [
      "End of the Widgerson loop ; current coloring :\n",
      "[0. 0. 0. 0.]\n",
      "New semicoloring added via hyperplane rounding ; current coloring :\n",
      "[2. 1. 2. 1.]\n",
      "coloring : [2. 1. 2. 1.]\n",
      "The KMS algo is here correct.\n"
     ]
    }
   ],
   "source": [
    "A = np.array([[0,1,0,1],[1,0,1,0],[0,1,0,1],[1,0,1,0]])\n",
    "coloring = kms(A)\n",
    "print(\"coloring : {}\".format(coloring))\n",
    "print(\"The KMS algo is here \" + \"correct.\" if check_coloring(A, coloring) else \"not correct.\")"
   ]
  },
  {
   "cell_type": "markdown",
   "metadata": {
    "id": "k2KnVGDCFocb"
   },
   "source": [
    "We define a function to draw the graph and visualize the coloring:"
   ]
  },
  {
   "cell_type": "code",
   "execution_count": null,
   "metadata": {
    "id": "3A6KpgOfFkqd"
   },
   "outputs": [],
   "source": [
    "def draw_graph_with_coloring(G, coloring):\n",
    "    \"\"\"\n",
    "    draw graph G (networkx graph) with the colors defined in coloring (list of ints)\n",
    "    \"\"\"\n",
    "    pos = nx.spring_layout(G)\n",
    "    colors = ['red','blue','green','yellow','purple', 'orange', \"black\", \"grey\", \"white\", \"magenta\"]\n",
    "    for i in range(len(coloring)):\n",
    "        nx.draw_networkx_nodes(G, pos, [x for x in G.nodes() if coloring[x]==i], node_color=colors[i])\n",
    "    nx.draw_networkx_edges(G, pos)\n",
    "    plt.axis(\"off\")\n",
    "    plt.show()"
   ]
  },
  {
   "cell_type": "code",
   "execution_count": null,
   "metadata": {
    "colab": {
     "base_uri": "https://localhost:8080/",
     "height": 248
    },
    "id": "EFPJnrd-F79A",
    "outputId": "8dd1784f-8d91-43a4-a62a-a111930e2685"
   },
   "outputs": [
    {
     "data": {
      "image/png": "[encoded data removed]",
      "text/plain": [
       "<Figure size 432x288 with 1 Axes>"
      ]
     },
     "metadata": {
      "tags": []
     },
     "output_type": "display_data"
    }
   ],
   "source": [
    "draw_graph_with_coloring(nx.from_numpy_array(A), coloring)"
   ]
  },
  {
   "cell_type": "markdown",
   "metadata": {
    "id": "x_xUS7aXrCn7"
   },
   "source": [
    "We can also test with a graph of 9 vertices forming a cycle, because it is also 3-colorable (but not 2-colorable):"
   ]
  },
  {
   "cell_type": "code",
   "execution_count": null,
   "metadata": {
    "colab": {
     "base_uri": "https://localhost:8080/"
    },
    "id": "3J3zles_gOPi",
    "outputId": "7b3bb81c-aa48-476f-a0c6-53520959fb90"
   },
   "outputs": [
    {
     "name": "stdout",
     "output_type": "stream",
     "text": [
      "End of the Widgerson loop ; current coloring :\n",
      "[0. 0. 0. 0. 0. 0. 0. 0. 0.]\n",
      "New semicoloring added via hyperplane rounding ; current coloring :\n",
      "[2. 0. 2. 0. 2. 0. 2. 1. 0.]\n",
      "New semicoloring added via hyperplane rounding ; current coloring :\n",
      "[2. 3. 2. 3. 2. 3. 2. 1. 3.]\n",
      "coloring : [2. 3. 2. 3. 2. 3. 2. 1. 3.]\n",
      "The KMS algo is here correct.\n"
     ]
    }
   ],
   "source": [
    "#adjacency matrix of a graph with n vertices forming a cycle\n",
    "n = 9\n",
    "A = np.zeros((n,n))\n",
    "for i in range(len(A)-1):\n",
    "    A[i][i+1] = 1\n",
    "    A[i+1][i] = 1\n",
    "A[-1][0] = 1\n",
    "A[0][-1] = 1\n",
    "coloring = kms(A)\n",
    "print(\"coloring : {}\".format(coloring))\n",
    "print(\"The KMS algo is here \" + \"correct.\" if check_coloring(A, coloring) else \"not correct.\")"
   ]
  },
  {
   "cell_type": "code",
   "execution_count": null,
   "metadata": {
    "colab": {
     "base_uri": "https://localhost:8080/",
     "height": 248
    },
    "id": "TYnzS_amGMik",
    "outputId": "8c408ae6-bdea-4a83-edfc-e72d110aaca4"
   },
   "outputs": [
    {
     "data": {
      "image/png": "[encoded data removed]",
      "text/plain": [
       "<Figure size 432x288 with 1 Axes>"
      ]
     },
     "metadata": {
      "tags": []
     },
     "output_type": "display_data"
    }
   ],
   "source": [
    "draw_graph_with_coloring(nx.from_numpy_array(A), coloring)"
   ]
  },
  {
   "cell_type": "markdown",
   "metadata": {
    "id": "p7XVn9cQkhOA",
    "outputId": "c603c728-a6f3-4c2a-ea2c-2c7bcb484314"
   },
   "source": [
    "We cannot use a graph with any random adjacency matrix because the graph has to be 3-colorable to make the KMS algorithm valid ; thus we chose to test here with the Petersen graph (https://en.wikipedia.org/wiki/Petersen_graph) that has 10 vertices and 15 edges and that is known to be 3-colorable :"
   ]
  },
  {
   "cell_type": "code",
   "execution_count": null,
   "metadata": {
    "colab": {
     "base_uri": "https://localhost:8080/"
    },
    "id": "5_ni0llQ0mc8",
    "outputId": "afac5789-9336-4709-d909-0f1624a613e9"
   },
   "outputs": [
    {
     "name": "stdout",
     "output_type": "stream",
     "text": [
      "End of the Widgerson loop ; current coloring :\n",
      "[0. 0. 0. 0. 0. 0. 0. 0. 0. 0.]\n",
      "New semicoloring added via hyperplane rounding ; current coloring :\n",
      "[1. 3. 2. 0. 4. 0. 2. 0. 4. 3.]\n",
      "New semicoloring added via hyperplane rounding ; current coloring :\n",
      "[1. 3. 2. 5. 4. 0. 2. 5. 4. 3.]\n",
      "New semicoloring added via hyperplane rounding ; current coloring :\n",
      "[1. 3. 2. 5. 4. 6. 2. 5. 4. 3.]\n",
      "coloring : [1. 3. 2. 5. 4. 6. 2. 5. 4. 3.]\n",
      "The KMS algo is here correct.\n"
     ]
    }
   ],
   "source": [
    "petersen = nx.petersen_graph()\n",
    "A_petersen = np.array(nx.adjacency_matrix(petersen).todense())\n",
    "coloring = kms(A_petersen)\n",
    "print(\"coloring : {}\".format(coloring))\n",
    "print(\"The KMS algo is here \" + \"correct.\" if check_coloring(A_petersen, coloring) else \"not correct.\")"
   ]
  },
  {
   "cell_type": "code",
   "execution_count": null,
   "metadata": {
    "colab": {
     "base_uri": "https://localhost:8080/",
     "height": 248
    },
    "id": "IMlqpGu_FcIr",
    "outputId": "48877756-d09a-4a0b-d1a1-23e60fad2b16"
   },
   "outputs": [
    {
     "data": {
      "image/png": "[encoded data removed]",
      "text/plain": [
       "<Figure size 432x288 with 1 Axes>"
      ]
     },
     "metadata": {
      "tags": []
     },
     "output_type": "display_data"
    }
   ],
   "source": [
    "draw_graph_with_coloring(petersen, coloring)"
   ]
  },
  {
   "cell_type": "markdown",
   "metadata": {
    "id": "9ScoTWkI7Pun"
   },
   "source": [
    "# 4  Interior Points methods for SDP programming and more"
   ]
  },
  {
   "cell_type": "markdown",
   "metadata": {
    "id": "9mbDNu8Y6Voi"
   },
   "source": [
    "# 4. Solving SDP in practice\n",
    "\n",
    "Now that we have seen different SDP relaxations, we explore some methods to efficiently solve SDP programs.\n",
    "\n",
    "## 4.1 Interior Point algorithms\n",
    "\n",
    "From Chapter 5 in class we saw that barrier methods which are iterating inside the polytope of constraints are very efficient to solve SDP programs.      \n",
    "\n",
    "Inspired by the demonstration page 20 in Chapter 5, we recall the primal and dual problems introduced in section 2.     \n",
    "\n",
    "\\begin{equation}\n",
    "    \\tag{P}\n",
    "    \\label{primal_5}\n",
    "    \\begin{split}\n",
    "    &\\min \\langle C, X \\rangle \\\\\n",
    "    &\\text{ such that } A(X) = b, X \\succeq 0\n",
    "    \\end{split}\n",
    "\\end{equation} \n",
    "\n",
    "\\begin{equation}\n",
    "    \\tag{D}\n",
    "    \\label{dual_5}\n",
    "    \\begin{split}\n",
    "    &\\max b^T y \\\\\n",
    "    &\\text{ such that } Z = C - A^T(y) \\succeq 0\n",
    "    \\end{split}\n",
    "\\end{equation}\n",
    "where the linear operator $A$ has been introduced in section 2      \n",
    "\n",
    "Looking back to section 2, under the *Slater's* condition we acknowledge that $(X, y, Z)$ is optimal when $Z = C - A^T(y) \\succeq 0, A(X) = b, ZX - \\mu I = 0$ and $\\langle Z, X \\rangle = 0$ this last condition being a consequence of the strong duality discussed $0 = z_p - z_d = \\langle Z, X \\rangle$        \n",
    "\n",
    "From there, the primal-dual interior points method is derived from the convex optimization problem called the primal barrier problem where a logarithmic barrier controlled by a parameter $\\mu$ is added to (Primal).      \n",
    "\n",
    "The constraints are then the following :      \n",
    "\n",
    "\\begin{equation}\n",
    "    \\tag{PD$_{\\mu}$}\n",
    "    \\label{cond_pdp}\n",
    "    Z = C - A^T(y) \\succeq 0, A(X) = b, ZX - \\mu I = 0\n",
    "\\end{equation}       \n",
    "\n",
    "Whole details of the procedure to get \\eqref{cond_pdp} can be found in Rendl's paper.        \n",
    "\n",
    "We acknowledge that there is an equivalence between (Primal) and (Dual) having stricly feasible points and \\eqref{cond_pdp} having a unique solution $(X_{\\mu}, y_{\\mu}, Z_{\\mu}), \\forall \\mu > 0$          \n",
    "\n",
    "Now that we have this new program, let us recall the concept of barrier methods is to solve a sequence \\eqref{cond_pdp} for different decreasing values of $\\mu$ and use this sequence of results as an approximation to a solution of the initial program.       \n",
    "The idea is to solve a finite number of \\eqref{cond_pdp} for a decreasing sequence $\\mu_k$ and use the last solution $\\mu_{k_{\\text{last}}}$ as an approximation to the initial problem.        \n",
    "The intuition behind using only the last step is linked to the instability of Newton's method, a slightly different initialization point can yield a very different sequence of results.     \n",
    "\n",
    "The set of solutions obtained $CP := \\{P_{\\mu} = (X_{\\mu}, y_{\\mu}, Z_{\\mu}) : \\mu > 0 \\}$ defines a smooth curve, describing a path on the set of constraints. $CP$ is called the *central path*."
   ]
  },
  {
   "cell_type": "markdown",
   "metadata": {
    "id": "m3cxS2Amm4Ne"
   },
   "source": [
    "To compute SDP programming, we firstly define some utilitaries functions:"
   ]
  },
  {
   "cell_type": "code",
   "execution_count": null,
   "metadata": {
    "id": "XJRiTAZXMXDf"
   },
   "outputs": [],
   "source": [
    "def is_sdp(X):\n",
    "    return np.all(np.linalg.eigvals(X) >= 0)\n",
    "\n",
    "def proj_sdp(X):\n",
    "    A = (X + X.T)/2\n",
    "    eigvals, eigvecs = np.linalg.eig(A)\n",
    "    eigvals[eigvals < 0] = 0\n",
    "\n",
    "    return eigvecs.dot(np.diag(eigvals)).dot(eigvecs.T)"
   ]
  },
  {
   "cell_type": "markdown",
   "metadata": {
    "id": "b3Hqb4rmm-jJ"
   },
   "source": [
    "We now define an implementation of SDP programming solver - for the maxcut SDP relaxation problem more precisely here - through primal-dual path following Interior points method. The initial values of X, y, Z are chosen to be on the primal-dual path. At each iteration we firstly get the directions of descent as described in the article, and then we applied factors $\\alpha_p$ and $\\alpha_d$ to those directions in order to ensure the new matrices X and Z are semidefinite positive. We also update the value of $\\mu$. The loop stops when the updates of X become low."
   ]
  },
  {
   "cell_type": "code",
   "execution_count": null,
   "metadata": {
    "id": "ySnlxEcA-zLJ"
   },
   "outputs": [],
   "source": [
    "def sdp_maxcut_interior_points(L, rho=0.5, nb_iterations=10, verbose=False):\n",
    "    \"\"\"\n",
    "    Solve SDP programming with primal-dual path following interior points method\n",
    "    for the SDP relaxation of the maxcut problem\n",
    "\n",
    "    L: Laplacian of the ajacency matrix, parameter in the function to minimize Tr(LXt)\n",
    "    rho: paramètre d'échelle dans la méthode des points intérieurs (entre 0 et 1)\n",
    "\n",
    "    return: X, solution of the SDP problem\n",
    "    \"\"\"\n",
    "    n = len(L)\n",
    "    b = np.ones(n)*(1/4)\n",
    "    #initial values of variables (see HVW97)\n",
    "    X = np.eye(n)*(1/4)\n",
    "    y = np.sum(np.abs(L), axis=1)*1.1\n",
    "    Z = L - np.diag(y)\n",
    "    mu = -np.trace(np.dot(X,Z))\n",
    "    #mu = 0\n",
    "    iteration = 0\n",
    "    delta_X_mean = np.inf\n",
    "\n",
    "    while (iteration<nb_iterations) and delta_X_mean>10**-7:\n",
    "        iteration += 1\n",
    "        if verbose:\n",
    "            print(\"---------------------iteration : {}\".format(iteration))\n",
    "            print(\"X : {}\".format(X))\n",
    "            print(\"eigval X : {}\".format(np.linalg.eigvals(X)))\n",
    "            print(\"obj : {}\".format(np.trace(np.dot(L, X.T))))\n",
    "            print(\"mu {}\".format(mu))\n",
    "\n",
    "        Z_inv = np.linalg.inv(Z)\n",
    "        Z_inv = (Z_inv+Z_inv.T)/2\n",
    "        r_p = b - np.diag(X) # (42) in Rendl article\n",
    "        r_d = L - np.diag(y) - Z # (43) in Rendl article\n",
    "        v = r_p - np.diag(mu*Z_inv - X) + np.diag(np.dot(Z_inv, np.dot(r_d, X)))\n",
    "        #v = - np.diag(mu*Z_inv - X)\n",
    "        #v = - np.diag(mu*Z_inv) - b\n",
    "        M = X*Z_inv\n",
    "        #M = -X*Z_inv\n",
    "\n",
    "        delta_y = np.linalg.solve(M, v) #(45) in Rendl article\n",
    "        #delta_y = np.linalg.solve(M, mu*np.diag(Z_inv) - np.ones(n))\n",
    "        delta_Z = r_d - np.diag(delta_y)\n",
    "        #delta_Z =  -np.diag(delta_y)\n",
    "        delta_X = mu*Z_inv - X - np.dot(Z_inv, np.dot(delta_Z, X))\n",
    "        delta_X = (delta_X + delta_X.T)/2\n",
    "        delta_Z = (delta_Z + delta_Z.T)/2\n",
    "\n",
    "        #find alpha_p such as X+alpha_p*delta_X is SDP\n",
    "        alpha_p = 1\n",
    "        while not(is_sdp(X + alpha_p*delta_X)):\n",
    "            alpha_p *= 0.8\n",
    "        \n",
    "        #find alpha_d such as Z+alpha_d*delta_Z is SDP\n",
    "        alpha_d = 1\n",
    "        while not(is_sdp(-(Z + alpha_d*delta_Z))):\n",
    "            alpha_d *= 0.8\n",
    "\n",
    "        #To get DP\n",
    "        if alpha_p < 1:\n",
    "            alpha_p = 0.95*alpha_p\n",
    "        if alpha_d < 1:\n",
    "            alpha_d = 0.95*alpha_d\n",
    "\n",
    "        #update X, y and Z following the primal-dual path\n",
    "        X += alpha_p*delta_X\n",
    "        y += alpha_d*delta_y\n",
    "        Z += alpha_d*delta_Z\n",
    "\n",
    "        if verbose:\n",
    "            print(\"alpha_p : {}\".format(alpha_p))\n",
    "            print(\"alpha_d : {}\".format(alpha_d))\n",
    "            print(\"delta_X : {}\".format(delta_X))\n",
    "            print(\"delta_y : {}\".format(delta_y))\n",
    "            print(\"delta_Z : {}\".format(delta_Z))\n",
    "            print(\"r_d : {}\".format(r_d))\n",
    "            print(\"r_p : {}\".format(r_p))\n",
    "        \n",
    "        mu = -(1/n)*np.trace(np.dot(X,Z))\n",
    "        #mu = rho*mu\n",
    "\n",
    "        delta_X_mean = alpha_p*np.abs(delta_X).mean()\n",
    "\n",
    "    return X*4"
   ]
  },
  {
   "cell_type": "markdown",
   "metadata": {
    "id": "ihPSNpI8pAYR"
   },
   "source": [
    "We can firstly test the function with simple adjacency matrices and compare it to the results of CVXPY library :"
   ]
  },
  {
   "cell_type": "code",
   "execution_count": null,
   "metadata": {
    "colab": {
     "base_uri": "https://localhost:8080/"
    },
    "id": "LguZx6_MStL1",
    "outputId": "a90727fd-d81b-4565-eb1e-b68ad14a0dac"
   },
   "outputs": [
    {
     "name": "stdout",
     "output_type": "stream",
     "text": [
      "The function get the solution :\n",
      "[[ 1.         -0.99999987]\n",
      " [-0.99999987  1.        ]]\n",
      "The CVXPY library get the solution :\n",
      "[[ 1. -1.]\n",
      " [-1.  1.]]\n",
      "The function get the objective value : 3.999999739014581\n",
      "The CVXPY library get the objective value : 3.9999999999998264\n"
     ]
    }
   ],
   "source": [
    "A = np.array([[0,1],[1,0]])\n",
    "L = Laplacien(A)\n",
    "X = sdp_maxcut_interior_points(L, nb_iterations=10)\n",
    "X_cvxpy = solve_sdp_maxcut(L)\n",
    "print(\"The function get the solution :\")\n",
    "print(X)\n",
    "print(\"The CVXPY library get the solution :\")\n",
    "print(X_cvxpy)\n",
    "print(\"The function get the objective value : {}\".format(np.trace(np.dot(L, X.T))))\n",
    "print(\"The CVXPY library get the objective value : {}\".format(np.trace(np.dot(L, X_cvxpy.T))))"
   ]
  },
  {
   "cell_type": "code",
   "execution_count": null,
   "metadata": {
    "colab": {
     "base_uri": "https://localhost:8080/"
    },
    "id": "n-4hc2gUl3OD",
    "outputId": "6ff54f26-24d9-413a-ad3d-02ecbaa0b41d"
   },
   "outputs": [
    {
     "name": "stdout",
     "output_type": "stream",
     "text": [
      "The function get the solution :\n",
      "[[ 1.         -0.99995229  0.96522052]\n",
      " [-0.99995229  1.         -0.9677266 ]\n",
      " [ 0.96522052 -0.9677266   1.        ]]\n",
      "The CVXPY library get the solution :\n",
      "[[ 0.99998973 -1.00013297  1.00006328]\n",
      " [-1.00013297  1.00001997 -0.99999553]\n",
      " [ 1.00006328 -0.99999553  0.99997757]]\n",
      "The function get the objective value : 11.870810971099008\n",
      "The CVXPY library get the objective value : 12.000252828564445\n"
     ]
    }
   ],
   "source": [
    "A = np.array([[0,1,0],[1,0,2],[0,2,0]])\n",
    "L = Laplacien(A)\n",
    "X = sdp_maxcut_interior_points(L, nb_iterations=10)\n",
    "X_cvxpy = solve_sdp_maxcut(L)\n",
    "print(\"The function get the solution :\")\n",
    "print(X)\n",
    "print(\"The CVXPY library get the solution :\")\n",
    "print(X_cvxpy)\n",
    "print(\"The function get the objective value : {}\".format(np.trace(np.dot(L, X.T))))\n",
    "print(\"The CVXPY library get the objective value : {}\".format(np.trace(np.dot(L, X_cvxpy.T))))"
   ]
  },
  {
   "cell_type": "markdown",
   "metadata": {
    "id": "6RRrUxGJktgS"
   },
   "source": [
    "We will now test the time of the interior points method with different size of graphs n. To do this, we generate random adjacency matrix of size n:"
   ]
  },
  {
   "cell_type": "code",
   "execution_count": null,
   "metadata": {
    "id": "fb-ntNRUhOdM"
   },
   "outputs": [],
   "source": [
    "def generate_random_adj_matrix(n):\n",
    "    \"\"\"\n",
    "    Generate a random adjacency matrix of size n\n",
    "    \"\"\"  \n",
    "    A = (np.random.randn(n, n)>0.1)*1\n",
    "    #delete the weighs of the edges between a same vertex\n",
    "    for i in range(len(A)):\n",
    "        A[i][i] = 0\n",
    "    #make the matrix symetric\n",
    "    for i in range(len(A)):\n",
    "        for j in range(i,len(A)):\n",
    "            A[i][j] = A[j][i]\n",
    "    return A"
   ]
  },
  {
   "cell_type": "code",
   "execution_count": null,
   "metadata": {
    "id": "2vfawoYMhnvL"
   },
   "outputs": [],
   "source": [
    "n_s = [20,50,100,200,300,400,500]\n",
    "times = []\n",
    "\n",
    "for n in n_s:\n",
    "    A = generate_random_adj_matrix(n)\n",
    "    L = Laplacien(A)\n",
    "    t0 = time.time()\n",
    "    X = sdp_maxcut_interior_points(L, nb_iterations=10)\n",
    "    t1 = time.time()\n",
    "    times.append(t1-t0)"
   ]
  },
  {
   "cell_type": "markdown",
   "metadata": {
    "id": "b2Eq9U6poQ-s"
   },
   "source": [
    "We can plot the times of the method for increasing n and see an exponential dynamic that make the Interior Points method impractical for a large n and for a large number of constraints. "
   ]
  },
  {
   "cell_type": "code",
   "execution_count": null,
   "metadata": {
    "colab": {
     "base_uri": "https://localhost:8080/",
     "height": 295
    },
    "id": "lEbwhEFdjurr",
    "outputId": "9895affa-7848-490f-8ee7-bd310d3a21e5"
   },
   "outputs": [
    {
     "data": {
      "image/png": "[encoded data removed]",
      "text/plain": [
       "<Figure size 432x288 with 1 Axes>"
      ]
     },
     "metadata": {
      "needs_background": "light",
      "tags": []
     },
     "output_type": "display_data"
    }
   ],
   "source": [
    "plt.plot(n_s, times)\n",
    "plt.xlabel(\"size n of the graph\")\n",
    "plt.ylabel(\"time to compute the SDP relaxation\")\n",
    "plt.title(\"Time performances of Interior Points Method for SDP problem\")\n",
    "plt.show()"
   ]
  },
  {
   "cell_type": "markdown",
   "metadata": {
    "id": "e9rBFt6LfSr7"
   },
   "source": [
    "## 4.2 Extensions and future work\n",
    "\n",
    "Implementations showed that a limitation to the use of interior point methods was the dimension of the matrix space and the number of constraints.      \n",
    "\n",
    "A few methods can bypass the dimension-related difficulties encountered by the interior point methods.      \n",
    "\n",
    "When the matrix space is of reasonable dimension but the number of constraints is very large, one general idea for example is to separate the set of constraints in two different sets. One set is considered to be manageable with the interior points methods and the second set - supposedly making things too complicated - is added to the objective function through a partial Lagrangian.      \n",
    "\n",
    "Now, using traditional techniques we end solving an SDP over the first set of constraints we kept. This is supposed to be doable with the interior point methods for example.     \n",
    "\n",
    "We acknowledge that the solution found here can be linked to the subgradient of a function of the partial Lagrangian introduced above.     \n",
    "\n",
    "The function there is convex but is not differentiable at some points therefore minimizing this function will make use of non smooth optimization techniques."
   ]
  },
  {
   "cell_type": "code",
   "execution_count": null,
   "metadata": {},
   "outputs": [],
   "source": []
  }
 ],
 "metadata": {
  "colab": {
   "collapsed_sections": [],
   "name": "compressed_sensing_9.ipynb",
   "provenance": []
  },
  "kernelspec": {
   "display_name": "Python 3",
   "language": "python",
   "name": "python3"
  },
  "language_info": {
   "codemirror_mode": {
    "name": "ipython",
    "version": 3
   },
   "file_extension": ".py",
   "mimetype": "text/x-python",
   "name": "python",
   "nbconvert_exporter": "python",
   "pygments_lexer": "ipython3",
   "version": "3.7.6"
  },
  "toc": {
   "base_numbering": 1,
   "nav_menu": {},
   "number_sections": true,
   "sideBar": true,
   "skip_h1_title": false,
   "title_cell": "Table of Contents",
   "title_sidebar": "Contents",
   "toc_cell": false,
   "toc_position": {},
   "toc_section_display": true,
   "toc_window_display": false
  }
 },
 "nbformat": 4,
 "nbformat_minor": 1
}
